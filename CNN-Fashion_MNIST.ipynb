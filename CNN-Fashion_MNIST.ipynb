{
 "cells": [
  {
   "cell_type": "code",
   "execution_count": 57,
   "metadata": {
    "scrolled": true
   },
   "outputs": [],
   "source": [
    "from keras.datasets import fashion_mnist\n",
    "(train_X,train_Y), (test_X,test_Y) = fashion_mnist.load_data()"
   ]
  },
  {
   "cell_type": "code",
   "execution_count": 58,
   "metadata": {},
   "outputs": [
    {
     "name": "stdout",
     "output_type": "stream",
     "text": [
      "Training data shape:  (60000, 28, 28) (60000,)\n",
      "Testing data shape:  (10000, 28, 28) (10000,)\n"
     ]
    }
   ],
   "source": [
    "import numpy as np\n",
    "from keras.utils import to_categorical\n",
    "import matplotlib.pyplot as plt\n",
    "%matplotlib inline\n",
    "\n",
    "print('Training data shape: ', train_X.shape, train_Y.shape)\n",
    "print('Testing data shape: ', test_X.shape, test_Y.shape)"
   ]
  },
  {
   "cell_type": "code",
   "execution_count": 59,
   "metadata": {},
   "outputs": [
    {
     "name": "stdout",
     "output_type": "stream",
     "text": [
      "Total number of outputs:  10\n",
      "Outputnclasses:  [0 1 2 3 4 5 6 7 8 9]\n"
     ]
    }
   ],
   "source": [
    "classes = np.unique(train_Y)\n",
    "nclasses = len(classes)\n",
    "print('Total number of outputs: ', nclasses)\n",
    "print('Outputnclasses: ', classes)"
   ]
  },
  {
   "cell_type": "code",
   "execution_count": 83,
   "metadata": {},
   "outputs": [
    {
     "data": {
      "text/plain": [
       "Text(0.5, 1.0, 'Ground Truth : 9')"
      ]
     },
     "execution_count": 83,
     "metadata": {},
     "output_type": "execute_result"
    },
    {
     "data": {
      "image/png": "[encoded data removed]",
      "text/plain": [
       "<Figure size 360x360 with 2 Axes>"
      ]
     },
     "metadata": {
      "needs_background": "light"
     },
     "output_type": "display_data"
    }
   ],
   "source": [
    "plt.figure(figsize=[5,5])\n",
    "\n",
    "# Display the first image in training data\n",
    "plt.subplot(121)\n",
    "plt.imshow(train_X[0,:,:], cmap='gray')\n",
    "plt.title(\"Ground Truth : {}\".format(train_Y[0]))\n",
    "\n",
    "# Display the first image in testing data\n",
    "plt.subplot(122)\n",
    "plt.imshow(test_X[0,:,:], cmap='gray')\n",
    "plt.title(\"Ground Truth : {}\".format(test_Y[0]))"
   ]
  },
  {
   "cell_type": "code",
   "execution_count": 61,
   "metadata": {},
   "outputs": [],
   "source": [
    "tr_x = train_X\n",
    "ts_x = test_X\n",
    "tr_y = train_Y\n",
    "ts_y = test_Y"
   ]
  },
  {
   "cell_type": "code",
   "execution_count": 62,
   "metadata": {},
   "outputs": [
    {
     "data": {
      "text/plain": [
       "((60000, 28, 28, 1), (10000, 28, 28, 1))"
      ]
     },
     "execution_count": 62,
     "metadata": {},
     "output_type": "execute_result"
    }
   ],
   "source": [
    "train_X = train_X.reshape(-1, 28, 28, 1)\n",
    "test_X = test_X.reshape(-1, 28, 28, 1)\n",
    "train_X.shape, test_X.shape"
   ]
  },
  {
   "cell_type": "code",
   "execution_count": 63,
   "metadata": {},
   "outputs": [],
   "source": [
    "train_X = train_X.astype('float32')\n",
    "test_X = test_X.astype('float32')\n",
    "train_X = train_X / 255\n",
    "test_X = test_X / 255"
   ]
  },
  {
   "cell_type": "code",
   "execution_count": 64,
   "metadata": {},
   "outputs": [
    {
     "name": "stdout",
     "output_type": "stream",
     "text": [
      "Original label: 9\n",
      "After conversion to one-hot [0. 0. 0. 0. 0. 0. 0. 0. 0. 1.]\n"
     ]
    }
   ],
   "source": [
    "train_Y_one_hot = to_categorical(train_Y)\n",
    "test_Y_one_hot = to_categorical(test_Y)\n",
    "\n",
    "print('Original label:', train_Y[0])\n",
    "print('After conversion to one-hot', train_Y_one_hot[0])"
   ]
  },
  {
   "cell_type": "code",
   "execution_count": 65,
   "metadata": {},
   "outputs": [],
   "source": [
    "from sklearn.model_selection import train_test_split\n",
    "train_X, valid_X, train_label, valid_label = train_test_split(train_X, train_Y_one_hot, test_size = 0.2, random_state = 13)"
   ]
  },
  {
   "cell_type": "code",
   "execution_count": 66,
   "metadata": {},
   "outputs": [
    {
     "data": {
      "text/plain": [
       "((48000, 28, 28, 1), (12000, 28, 28, 1), (48000, 10), (12000, 10))"
      ]
     },
     "execution_count": 66,
     "metadata": {},
     "output_type": "execute_result"
    }
   ],
   "source": [
    "train_X.shape, valid_X.shape, train_label.shape, valid_label.shape"
   ]
  },
  {
   "cell_type": "code",
   "execution_count": 67,
   "metadata": {},
   "outputs": [],
   "source": [
    "import keras\n",
    "from keras.models import Sequential, Input, Model \n",
    "from keras.layers import Dense, Dropout, Flatten\n",
    "from keras.layers import Conv2D, MaxPooling2D\n",
    "from keras.layers.normalization import BatchNormalization\n",
    "from keras.layers.advanced_activations import LeakyReLU"
   ]
  },
  {
   "cell_type": "code",
   "execution_count": 68,
   "metadata": {},
   "outputs": [],
   "source": [
    "batch_size = 64\n",
    "epochs = 20\n",
    "num_classes = 10"
   ]
  },
  {
   "cell_type": "code",
   "execution_count": 69,
   "metadata": {},
   "outputs": [],
   "source": [
    "fashion_model = Sequential()\n",
    "fashion_model.add(Conv2D(32, kernel_size = (3, 3), activation = 'linear', input_shape=(28,28,1), padding = 'same'))\n",
    "fashion_model.add(LeakyReLU(alpha = 0.1))\n",
    "fashion_model.add(MaxPooling2D((2,2), padding = 'same'))\n",
    "\n",
    "fashion_model.add(Conv2D(64, (3, 3), activation = 'linear', padding = 'same'))\n",
    "fashion_model.add(LeakyReLU(alpha = 0.1))\n",
    "fashion_model.add(MaxPooling2D(pool_size = (2,2), padding = 'same'))\n",
    "\n",
    "fashion_model.add(Conv2D(128, (3, 3), activation = 'linear', padding = 'same'))\n",
    "fashion_model.add(LeakyReLU(alpha = 0.1))                  \n",
    "fashion_model.add(MaxPooling2D(pool_size=(2, 2), padding = 'same'))\n",
    "\n",
    "fashion_model.add(Flatten())\n",
    "fashion_model.add(Dense(128, activation = 'linear'))\n",
    "fashion_model.add(LeakyReLU(alpha = 0.1))                  \n",
    "fashion_model.add(Dense(num_classes, activation = 'softmax'))"
   ]
  },
  {
   "cell_type": "code",
   "execution_count": 70,
   "metadata": {},
   "outputs": [],
   "source": [
    "fashion_model.compile(loss = keras.losses.categorical_crossentropy, optimizer = keras.optimizers.Adam(), metrics = ['accuracy'])"
   ]
  },
  {
   "cell_type": "code",
   "execution_count": 71,
   "metadata": {},
   "outputs": [
    {
     "name": "stdout",
     "output_type": "stream",
     "text": [
      "Model: \"sequential_2\"\n",
      "_________________________________________________________________\n",
      "Layer (type)                 Output Shape              Param #   \n",
      "=================================================================\n",
      "conv2d_6 (Conv2D)            (None, 28, 28, 32)        320       \n",
      "_________________________________________________________________\n",
      "leaky_re_lu_8 (LeakyReLU)    (None, 28, 28, 32)        0         \n",
      "_________________________________________________________________\n",
      "max_pooling2d_6 (MaxPooling2 (None, 14, 14, 32)        0         \n",
      "_________________________________________________________________\n",
      "conv2d_7 (Conv2D)            (None, 14, 14, 64)        18496     \n",
      "_________________________________________________________________\n",
      "leaky_re_lu_9 (LeakyReLU)    (None, 14, 14, 64)        0         \n",
      "_________________________________________________________________\n",
      "max_pooling2d_7 (MaxPooling2 (None, 7, 7, 64)          0         \n",
      "_________________________________________________________________\n",
      "conv2d_8 (Conv2D)            (None, 7, 7, 128)         73856     \n",
      "_________________________________________________________________\n",
      "leaky_re_lu_10 (LeakyReLU)   (None, 7, 7, 128)         0         \n",
      "_________________________________________________________________\n",
      "max_pooling2d_8 (MaxPooling2 (None, 4, 4, 128)         0         \n",
      "_________________________________________________________________\n",
      "flatten_2 (Flatten)          (None, 2048)              0         \n",
      "_________________________________________________________________\n",
      "dense_4 (Dense)              (None, 128)               262272    \n",
      "_________________________________________________________________\n",
      "leaky_re_lu_11 (LeakyReLU)   (None, 128)               0         \n",
      "_________________________________________________________________\n",
      "dense_5 (Dense)              (None, 10)                1290      \n",
      "=================================================================\n",
      "Total params: 356,234\n",
      "Trainable params: 356,234\n",
      "Non-trainable params: 0\n",
      "_________________________________________________________________\n"
     ]
    }
   ],
   "source": [
    "fashion_model.summary()"
   ]
  },
  {
   "cell_type": "code",
   "execution_count": 72,
   "metadata": {},
   "outputs": [
    {
     "name": "stdout",
     "output_type": "stream",
     "text": [
      "Epoch 1/20\n",
      "750/750 [==============================] - 97s 128ms/step - loss: 0.6881 - accuracy: 0.7485 - val_loss: 0.3699 - val_accuracy: 0.8636\n",
      "Epoch 2/20\n",
      "750/750 [==============================] - 94s 126ms/step - loss: 0.3066 - accuracy: 0.8874 - val_loss: 0.2716 - val_accuracy: 0.9018\n",
      "Epoch 3/20\n",
      "750/750 [==============================] - 98s 130ms/step - loss: 0.2421 - accuracy: 0.9114 - val_loss: 0.2720 - val_accuracy: 0.9033\n",
      "Epoch 4/20\n",
      "750/750 [==============================] - 105s 140ms/step - loss: 0.2068 - accuracy: 0.9237 - val_loss: 0.2521 - val_accuracy: 0.9068\n",
      "Epoch 5/20\n",
      "750/750 [==============================] - 101s 135ms/step - loss: 0.1815 - accuracy: 0.9322 - val_loss: 0.2383 - val_accuracy: 0.9167\n",
      "Epoch 6/20\n",
      "750/750 [==============================] - 105s 140ms/step - loss: 0.1615 - accuracy: 0.9405 - val_loss: 0.2328 - val_accuracy: 0.9187\n",
      "Epoch 7/20\n",
      "750/750 [==============================] - 109s 146ms/step - loss: 0.1407 - accuracy: 0.9466 - val_loss: 0.2545 - val_accuracy: 0.9157\n",
      "Epoch 8/20\n",
      "750/750 [==============================] - 111s 148ms/step - loss: 0.1125 - accuracy: 0.9574 - val_loss: 0.2293 - val_accuracy: 0.9235\n",
      "Epoch 9/20\n",
      "750/750 [==============================] - 127s 170ms/step - loss: 0.0959 - accuracy: 0.9641 - val_loss: 0.2481 - val_accuracy: 0.9233\n",
      "Epoch 10/20\n",
      "750/750 [==============================] - 133s 177ms/step - loss: 0.0797 - accuracy: 0.9691 - val_loss: 0.2819 - val_accuracy: 0.9173\n",
      "Epoch 11/20\n",
      "750/750 [==============================] - 133s 178ms/step - loss: 0.0681 - accuracy: 0.9747 - val_loss: 0.3007 - val_accuracy: 0.9220\n",
      "Epoch 12/20\n",
      "750/750 [==============================] - 132s 176ms/step - loss: 0.0580 - accuracy: 0.9786 - val_loss: 0.3725 - val_accuracy: 0.9093\n",
      "Epoch 13/20\n",
      "750/750 [==============================] - 131s 175ms/step - loss: 0.0535 - accuracy: 0.9801 - val_loss: 0.3457 - val_accuracy: 0.9165\n",
      "Epoch 14/20\n",
      "750/750 [==============================] - 132s 176ms/step - loss: 0.0476 - accuracy: 0.9820 - val_loss: 0.3479 - val_accuracy: 0.9185\n",
      "Epoch 15/20\n",
      "750/750 [==============================] - 132s 176ms/step - loss: 0.0386 - accuracy: 0.9861 - val_loss: 0.3920 - val_accuracy: 0.9161\n",
      "Epoch 16/20\n",
      "750/750 [==============================] - 133s 177ms/step - loss: 0.0391 - accuracy: 0.9853 - val_loss: 0.4206 - val_accuracy: 0.9103\n",
      "Epoch 17/20\n",
      "750/750 [==============================] - 133s 177ms/step - loss: 0.0348 - accuracy: 0.9876 - val_loss: 0.4090 - val_accuracy: 0.9208\n",
      "Epoch 18/20\n",
      "750/750 [==============================] - 133s 177ms/step - loss: 0.0310 - accuracy: 0.9884 - val_loss: 0.4297 - val_accuracy: 0.9145\n",
      "Epoch 19/20\n",
      "750/750 [==============================] - 133s 178ms/step - loss: 0.0268 - accuracy: 0.9912 - val_loss: 0.4061 - val_accuracy: 0.9193\n",
      "Epoch 20/20\n",
      "750/750 [==============================] - 133s 177ms/step - loss: 0.0272 - accuracy: 0.9895 - val_loss: 0.4958 - val_accuracy: 0.9192\n"
     ]
    }
   ],
   "source": [
    "fashion_train = fashion_model.fit(train_X, train_label, batch_size=batch_size,epochs=epochs,verbose=1,validation_data=(valid_X, valid_label))"
   ]
  },
  {
   "cell_type": "code",
   "execution_count": 73,
   "metadata": {},
   "outputs": [],
   "source": [
    "test_eval = fashion_model.evaluate(test_X, test_Y_one_hot, verbose = 0)"
   ]
  },
  {
   "cell_type": "code",
   "execution_count": 74,
   "metadata": {},
   "outputs": [
    {
     "name": "stdout",
     "output_type": "stream",
     "text": [
      "Test loss:  0.5229184627532959\n",
      "Test accuracy:  0.9156000018119812\n"
     ]
    }
   ],
   "source": [
    "print('Test loss: ', test_eval[0])\n",
    "print('Test accuracy: ', test_eval[1])"
   ]
  },
  {
   "cell_type": "code",
   "execution_count": 77,
   "metadata": {},
   "outputs": [
    {
     "data": {
      "image/png": "[encoded data removed]",
      "text/plain": [
       "<Figure size 432x288 with 1 Axes>"
      ]
     },
     "metadata": {
      "needs_background": "light"
     },
     "output_type": "display_data"
    },
    {
     "data": {
      "image/png": "[encoded data removed]",
      "text/plain": [
       "<Figure size 432x288 with 1 Axes>"
      ]
     },
     "metadata": {
      "needs_background": "light"
     },
     "output_type": "display_data"
    }
   ],
   "source": [
    "accuracy = fashion_train.history['accuracy']\n",
    "val_accuracy = fashion_train.history['val_accuracy']\n",
    "loss = fashion_train.history['loss']\n",
    "val_loss = fashion_train.history['val_loss']\n",
    "epochs = range(len(accuracy))\n",
    "\n",
    "plt.plot(epochs, accuracy, 'bo', label = 'Training accuracy')\n",
    "plt.plot(epochs, val_accuracy, 'b', label = 'Validation accuracy')\n",
    "plt.title('Trainimg and validation accuracy')\n",
    "plt.legend()\n",
    "plt.figure()\n",
    "plt.plot(epochs, loss, 'bo', label = 'Training loss')\n",
    "plt.plot(epochs, val_loss, 'b', label = 'Validation loss')\n",
    "plt.title('Training and validation loss')\n",
    "plt.legend()\n",
    "plt.show()\n"
   ]
  },
  {
   "cell_type": "code",
   "execution_count": 78,
   "metadata": {},
   "outputs": [],
   "source": [
    "batch_size = 64\n",
    "epochs = 20\n",
    "num_classes = 10"
   ]
  },
  {
   "cell_type": "code",
   "execution_count": 21,
   "metadata": {},
   "outputs": [],
   "source": [
    "fashion_model = Sequential()\n",
    "fashion_model.add(Conv2D(32, kernel_size = (3, 3), activation = 'linear', input_shape=(28,28,1), padding = 'same'))\n",
    "fashion_model.add(LeakyReLU(alpha = 0.1))\n",
    "fashion_model.add(MaxPooling2D((2,2), padding = 'same'))\n",
    "fashion_model.add(Dropout(0.25))\n",
    "\n",
    "fashion_model.add(Conv2D(64, (3, 3), activation = 'linear', padding = 'same'))\n",
    "fashion_model.add(LeakyReLU(alpha = 0.1))\n",
    "fashion_model.add(MaxPooling2D(pool_size = (2,2), padding = 'same'))\n",
    "fashion_model.add(Dropout(0.25))\n",
    "\n",
    "fashion_model.add(Conv2D(128, (3, 3), activation = 'linear', padding = 'same'))\n",
    "fashion_model.add(LeakyReLU(alpha = 0.1))                  \n",
    "fashion_model.add(MaxPooling2D(pool_size=(2, 2), padding = 'same'))\n",
    "fashion_model.add(Dropout(0.4))\n",
    "\n",
    "fashion_model.add(Flatten())\n",
    "fashion_model.add(Dense(128, activation = 'linear'))\n",
    "fashion_model.add(LeakyReLU(alpha = 0.1)) \n",
    "fashion_model.add(Dropout(0.3))\n",
    "fashion_model.add(Dense(num_classes, activation = 'softmax'))"
   ]
  },
  {
   "cell_type": "code",
   "execution_count": 5,
   "metadata": {},
   "outputs": [
    {
     "name": "stdout",
     "output_type": "stream",
     "text": [
      "Model: \"sequential\"\n",
      "_________________________________________________________________\n",
      "Layer (type)                 Output Shape              Param #   \n",
      "=================================================================\n",
      "conv2d (Conv2D)              (None, 28, 28, 32)        320       \n",
      "_________________________________________________________________\n",
      "leaky_re_lu (LeakyReLU)      (None, 28, 28, 32)        0         \n",
      "_________________________________________________________________\n",
      "max_pooling2d (MaxPooling2D) (None, 14, 14, 32)        0         \n",
      "_________________________________________________________________\n",
      "dropout (Dropout)            (None, 14, 14, 32)        0         \n",
      "_________________________________________________________________\n",
      "conv2d_1 (Conv2D)            (None, 14, 14, 64)        18496     \n",
      "_________________________________________________________________\n",
      "leaky_re_lu_1 (LeakyReLU)    (None, 14, 14, 64)        0         \n",
      "_________________________________________________________________\n",
      "max_pooling2d_1 (MaxPooling2 (None, 7, 7, 64)          0         \n",
      "_________________________________________________________________\n",
      "dropout_1 (Dropout)          (None, 7, 7, 64)          0         \n",
      "_________________________________________________________________\n",
      "conv2d_2 (Conv2D)            (None, 7, 7, 128)         73856     \n",
      "_________________________________________________________________\n",
      "leaky_re_lu_2 (LeakyReLU)    (None, 7, 7, 128)         0         \n",
      "_________________________________________________________________\n",
      "max_pooling2d_2 (MaxPooling2 (None, 4, 4, 128)         0         \n",
      "_________________________________________________________________\n",
      "dropout_2 (Dropout)          (None, 4, 4, 128)         0         \n",
      "_________________________________________________________________\n",
      "flatten (Flatten)            (None, 2048)              0         \n",
      "_________________________________________________________________\n",
      "dense (Dense)                (None, 128)               262272    \n",
      "_________________________________________________________________\n",
      "leaky_re_lu_3 (LeakyReLU)    (None, 128)               0         \n",
      "_________________________________________________________________\n",
      "dropout_3 (Dropout)          (None, 128)               0         \n",
      "_________________________________________________________________\n",
      "dense_1 (Dense)              (None, 10)                1290      \n",
      "=================================================================\n",
      "Total params: 356,234\n",
      "Trainable params: 356,234\n",
      "Non-trainable params: 0\n",
      "_________________________________________________________________\n"
     ]
    }
   ],
   "source": [
    "fashion_model.summary()"
   ]
  },
  {
   "cell_type": "code",
   "execution_count": 22,
   "metadata": {},
   "outputs": [],
   "source": [
    "fashion_model.compile(loss = keras.losses.categorical_crossentropy, optimizer = keras.optimizers.Adam(), metrics = ['accuracy'])"
   ]
  },
  {
   "cell_type": "code",
   "execution_count": 23,
   "metadata": {},
   "outputs": [
    {
     "name": "stdout",
     "output_type": "stream",
     "text": [
      "Epoch 1/20\n",
      "750/750 [==============================] - 99s 130ms/step - loss: 0.8623 - accuracy: 0.6755 - val_loss: 0.3927 - val_accuracy: 0.8614\n",
      "Epoch 2/20\n",
      "750/750 [==============================] - 98s 131ms/step - loss: 0.3925 - accuracy: 0.8565 - val_loss: 0.3264 - val_accuracy: 0.8808\n",
      "Epoch 3/20\n",
      "750/750 [==============================] - 139s 186ms/step - loss: 0.3316 - accuracy: 0.8775 - val_loss: 0.2813 - val_accuracy: 0.8988\n",
      "Epoch 4/20\n",
      "750/750 [==============================] - 142s 190ms/step - loss: 0.3054 - accuracy: 0.8860 - val_loss: 0.2624 - val_accuracy: 0.9042\n",
      "Epoch 5/20\n",
      "750/750 [==============================] - 142s 190ms/step - loss: 0.2836 - accuracy: 0.8949 - val_loss: 0.2521 - val_accuracy: 0.9066\n",
      "Epoch 6/20\n",
      "750/750 [==============================] - 140s 187ms/step - loss: 0.2629 - accuracy: 0.9021 - val_loss: 0.2406 - val_accuracy: 0.9122\n",
      "Epoch 7/20\n",
      "750/750 [==============================] - 118s 157ms/step - loss: 0.2597 - accuracy: 0.9018 - val_loss: 0.2479 - val_accuracy: 0.9105\n",
      "Epoch 8/20\n",
      "750/750 [==============================] - 112s 149ms/step - loss: 0.2490 - accuracy: 0.9053 - val_loss: 0.2381 - val_accuracy: 0.9148\n",
      "Epoch 9/20\n",
      "750/750 [==============================] - 135s 180ms/step - loss: 0.2412 - accuracy: 0.9098 - val_loss: 0.2368 - val_accuracy: 0.9153\n",
      "Epoch 10/20\n",
      "750/750 [==============================] - 129s 172ms/step - loss: 0.2362 - accuracy: 0.9108 - val_loss: 0.2276 - val_accuracy: 0.9178\n",
      "Epoch 11/20\n",
      "750/750 [==============================] - 127s 169ms/step - loss: 0.2238 - accuracy: 0.9137 - val_loss: 0.2254 - val_accuracy: 0.9187\n",
      "Epoch 12/20\n",
      "750/750 [==============================] - 127s 170ms/step - loss: 0.2159 - accuracy: 0.9193 - val_loss: 0.2152 - val_accuracy: 0.9210\n",
      "Epoch 13/20\n",
      "750/750 [==============================] - 129s 172ms/step - loss: 0.2168 - accuracy: 0.9174 - val_loss: 0.2142 - val_accuracy: 0.9235\n",
      "Epoch 14/20\n",
      "750/750 [==============================] - 129s 172ms/step - loss: 0.2172 - accuracy: 0.9184 - val_loss: 0.2203 - val_accuracy: 0.9228\n",
      "Epoch 15/20\n",
      "750/750 [==============================] - 128s 171ms/step - loss: 0.2082 - accuracy: 0.9212 - val_loss: 0.2240 - val_accuracy: 0.9185\n",
      "Epoch 16/20\n",
      "750/750 [==============================] - 128s 171ms/step - loss: 0.2085 - accuracy: 0.9221 - val_loss: 0.2070 - val_accuracy: 0.9259\n",
      "Epoch 17/20\n",
      "750/750 [==============================] - 129s 172ms/step - loss: 0.1996 - accuracy: 0.9235 - val_loss: 0.2158 - val_accuracy: 0.9239\n",
      "Epoch 18/20\n",
      "750/750 [==============================] - 130s 173ms/step - loss: 0.1973 - accuracy: 0.9248 - val_loss: 0.2142 - val_accuracy: 0.9254\n",
      "Epoch 19/20\n",
      "750/750 [==============================] - 129s 172ms/step - loss: 0.1930 - accuracy: 0.9260 - val_loss: 0.2259 - val_accuracy: 0.9203\n",
      "Epoch 20/20\n",
      "750/750 [==============================] - 129s 172ms/step - loss: 0.1905 - accuracy: 0.9264 - val_loss: 0.2257 - val_accuracy: 0.9211\n"
     ]
    }
   ],
   "source": [
    "fashion_train_dropout = fashion_model.fit(train_X, train_label, batch_size = batch_size, epochs = epochs, verbose = 1, validation_data = (valid_X, valid_label))"
   ]
  },
  {
   "cell_type": "code",
   "execution_count": 27,
   "metadata": {},
   "outputs": [
    {
     "name": "stdout",
     "output_type": "stream",
     "text": [
      "INFO:tensorflow:Assets written to: fashion_model_dropout.h5py/assets\n"
     ]
    }
   ],
   "source": [
    "fashion_model.save(\"fashion_model_dropout.h5py\")"
   ]
  },
  {
   "cell_type": "code",
   "execution_count": 28,
   "metadata": {},
   "outputs": [
    {
     "name": "stdout",
     "output_type": "stream",
     "text": [
      "313/313 [==============================] - 6s 19ms/step - loss: 0.2421 - accuracy: 0.9137\n"
     ]
    }
   ],
   "source": [
    "test_eval = fashion_model.evaluate(test_X, test_Y_one_hot, verbose = 1)"
   ]
  },
  {
   "cell_type": "code",
   "execution_count": 30,
   "metadata": {},
   "outputs": [
    {
     "name": "stdout",
     "output_type": "stream",
     "text": [
      "Test loss:  0.24206753075122833\n",
      "Test accuracy:  0.9136999845504761\n"
     ]
    }
   ],
   "source": [
    "print('Test loss: ', test_eval[0])\n",
    "print('Test accuracy: ', test_eval[1])"
   ]
  },
  {
   "cell_type": "code",
   "execution_count": 33,
   "metadata": {},
   "outputs": [
    {
     "data": {
      "image/png": "[encoded data removed]",
      "text/plain": [
       "<Figure size 432x288 with 1 Axes>"
      ]
     },
     "metadata": {
      "needs_background": "light"
     },
     "output_type": "display_data"
    },
    {
     "data": {
      "image/png": "[encoded data removed]",
      "text/plain": [
       "<Figure size 432x288 with 1 Axes>"
      ]
     },
     "metadata": {
      "needs_background": "light"
     },
     "output_type": "display_data"
    }
   ],
   "source": [
    "accuracy = fashion_train_dropout.history['accuracy']\n",
    "val_accuracy = fashion_train_dropout.history['val_accuracy']\n",
    "loss = fashion_train_dropout.history['loss']\n",
    "val_loss = fashion_train_dropout.history['val_loss']\n",
    "epochs = range(len(accuracy))\n",
    "plt.plot(epochs, accuracy, 'bo', label='Training accuracy')\n",
    "plt.plot(epochs, val_accuracy, 'b', label='Validation accuracy')\n",
    "plt.title('Training and validation accuracy')\n",
    "plt.legend()\n",
    "plt.figure()\n",
    "plt.plot(epochs, loss, 'bo', label='Training loss')\n",
    "plt.plot(epochs, val_loss, 'b', label='Validation loss')\n",
    "plt.title('Training and validation loss')\n",
    "plt.legend()\n",
    "plt.show()"
   ]
  },
  {
   "cell_type": "code",
   "execution_count": 39,
   "metadata": {},
   "outputs": [],
   "source": [
    "predictes_classes = fashion_model.predict(test_X)"
   ]
  },
  {
   "cell_type": "code",
   "execution_count": 40,
   "metadata": {},
   "outputs": [],
   "source": [
    "predicted_classes = np.argmax(np.round(predictes_classes), axis = 1)"
   ]
  },
  {
   "cell_type": "code",
   "execution_count": 41,
   "metadata": {},
   "outputs": [
    {
     "data": {
      "text/plain": [
       "((10000,), (10000,))"
      ]
     },
     "execution_count": 41,
     "metadata": {},
     "output_type": "execute_result"
    }
   ],
   "source": [
    "predicted_classes.shape, test_Y.shape"
   ]
  },
  {
   "cell_type": "code",
   "execution_count": 46,
   "metadata": {},
   "outputs": [
    {
     "name": "stdout",
     "output_type": "stream",
     "text": [
      "Found 9117 correct labels\n"
     ]
    },
    {
     "data": {
      "image/png": "[encoded data removed]",
      "text/plain": [
       "<Figure size 432x288 with 8 Axes>"
      ]
     },
     "metadata": {
      "needs_background": "light"
     },
     "output_type": "display_data"
    }
   ],
   "source": [
    "correct = np.where(predicted_classes == test_Y)[0]\n",
    "# print(\"Found \", len(correct), \" correct labels\")\n",
    "print (\"Found %d correct labels\" % len(correct))\n",
    "for i, correct in enumerate(correct[:9]):\n",
    "    plt.subplot(3, 3, i + 1)\n",
    "    plt.imshow(test_X[correct].reshape(28, 28), cmap = 'gray', interpolation = 'none')\n",
    "    plt.title(\"Predicted {}, Class {}\".format(predicted_classes[correct], test_Y[correct]))    \n",
    "    plt.tight_layout()"
   ]
  },
  {
   "cell_type": "code",
   "execution_count": 50,
   "metadata": {},
   "outputs": [
    {
     "name": "stdout",
     "output_type": "stream",
     "text": [
      "Found 883 incorrect labels\n"
     ]
    },
    {
     "data": {
      "image/png": "[encoded data removed]",
      "text/plain": [
       "<Figure size 432x288 with 8 Axes>"
      ]
     },
     "metadata": {
      "needs_background": "light"
     },
     "output_type": "display_data"
    }
   ],
   "source": [
    "incorrect = np.where(predicted_classes!=test_Y)[0]\n",
    "print (\"Found %d incorrect labels\" % len(incorrect))\n",
    "for i, incorrect in enumerate(incorrect[:9]):\n",
    "    plt.subplot(3,3,i+1)\n",
    "    plt.imshow(test_X[incorrect].reshape(28,28), cmap='gray', interpolation='none')\n",
    "    plt.title(\"Predicted {}, Class {}\".format(predicted_classes[incorrect], test_Y[incorrect]))\n",
    "    plt.tight_layout()"
   ]
  },
  {
   "cell_type": "code",
   "execution_count": 51,
   "metadata": {},
   "outputs": [
    {
     "name": "stdout",
     "output_type": "stream",
     "text": [
      "              precision    recall  f1-score   support\n",
      "\n",
      "     Class 0       0.83      0.83      0.83      1000\n",
      "     Class 1       0.99      0.99      0.99      1000\n",
      "     Class 2       0.93      0.78      0.85      1000\n",
      "     Class 3       0.91      0.92      0.91      1000\n",
      "     Class 4       0.81      0.91      0.86      1000\n",
      "     Class 5       0.99      0.99      0.99      1000\n",
      "     Class 6       0.74      0.78      0.76      1000\n",
      "     Class 7       0.97      0.97      0.97      1000\n",
      "     Class 8       0.99      0.98      0.98      1000\n",
      "     Class 9       0.98      0.97      0.97      1000\n",
      "\n",
      "    accuracy                           0.91     10000\n",
      "   macro avg       0.91      0.91      0.91     10000\n",
      "weighted avg       0.91      0.91      0.91     10000\n",
      "\n"
     ]
    }
   ],
   "source": [
    "from sklearn.metrics import classification_report\n",
    "target_names = [\"Class {}\".format(i) for i in range(num_classes)]\n",
    "print(classification_report(test_Y, predicted_classes, target_names=target_names))"
   ]
  }
 ],
 "metadata": {
  "kernelspec": {
   "display_name": "Python 3",
   "language": "python",
   "name": "python3"
  },
  "language_info": {
   "codemirror_mode": {
    "name": "ipython",
    "version": 3
   },
   "file_extension": ".py",
   "mimetype": "text/x-python",
   "name": "python",
   "nbconvert_exporter": "python",
   "pygments_lexer": "ipython3",
   "version": "3.8.5"
  }
 },
 "nbformat": 4,
 "nbformat_minor": 4
}
